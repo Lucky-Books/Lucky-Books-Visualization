{
  "nbformat": 4,
  "nbformat_minor": 0,
  "metadata": {
    "colab": {
      "provenance": []
    },
    "kernelspec": {
      "name": "python3",
      "display_name": "Python 3"
    },
    "language_info": {
      "name": "python"
    }
  },
  "cells": [
    {
      "cell_type": "markdown",
      "source": [
        "# 도전학기제 '도서관 데이터 활용 공모전'\n",
        "부산광역시 지도를 행정구별로 나누어 시각화 함."
      ],
      "metadata": {
        "id": "fYdJd_fYY545"
      }
    },
    {
      "cell_type": "code",
      "source": [
        "from google.colab import drive\n",
        "drive.mount('/content/drive')"
      ],
      "metadata": {
        "colab": {
          "base_uri": "https://localhost:8080/"
        },
        "id": "d0nobIrwyRgi",
        "outputId": "39800ed5-5279-47b7-b554-f2ce423fa4ba"
      },
      "execution_count": null,
      "outputs": [
        {
          "output_type": "stream",
          "name": "stdout",
          "text": [
            "Drive already mounted at /content/drive; to attempt to forcibly remount, call drive.mount(\"/content/drive\", force_remount=True).\n"
          ]
        }
      ]
    },
    {
      "cell_type": "code",
      "source": [
        "!pip install folium"
      ],
      "metadata": {
        "colab": {
          "base_uri": "https://localhost:8080/"
        },
        "id": "crYLuUzJQbeN",
        "outputId": "5f866559-1c31-490d-cd16-1514245a43d7"
      },
      "execution_count": null,
      "outputs": [
        {
          "output_type": "stream",
          "name": "stdout",
          "text": [
            "Requirement already satisfied: folium in /usr/local/lib/python3.10/dist-packages (0.17.0)\n",
            "Requirement already satisfied: branca>=0.6.0 in /usr/local/lib/python3.10/dist-packages (from folium) (0.7.2)\n",
            "Requirement already satisfied: jinja2>=2.9 in /usr/local/lib/python3.10/dist-packages (from folium) (3.1.4)\n",
            "Requirement already satisfied: numpy in /usr/local/lib/python3.10/dist-packages (from folium) (1.26.4)\n",
            "Requirement already satisfied: requests in /usr/local/lib/python3.10/dist-packages (from folium) (2.31.0)\n",
            "Requirement already satisfied: xyzservices in /usr/local/lib/python3.10/dist-packages (from folium) (2024.6.0)\n",
            "Requirement already satisfied: MarkupSafe>=2.0 in /usr/local/lib/python3.10/dist-packages (from jinja2>=2.9->folium) (2.1.5)\n",
            "Requirement already satisfied: charset-normalizer<4,>=2 in /usr/local/lib/python3.10/dist-packages (from requests->folium) (3.3.2)\n",
            "Requirement already satisfied: idna<4,>=2.5 in /usr/local/lib/python3.10/dist-packages (from requests->folium) (3.7)\n",
            "Requirement already satisfied: urllib3<3,>=1.21.1 in /usr/local/lib/python3.10/dist-packages (from requests->folium) (2.0.7)\n",
            "Requirement already satisfied: certifi>=2017.4.17 in /usr/local/lib/python3.10/dist-packages (from requests->folium) (2024.7.4)\n"
          ]
        }
      ]
    },
    {
      "cell_type": "code",
      "source": [
        "# 지도 띄우기 테스트\n",
        "import folium\n",
        "\n",
        "myMap = folium.Map(location=[37.4729081, 127.039306], zoom_start=10)\n",
        "\n",
        "myMap"
      ],
      "metadata": {
        "colab": {
          "base_uri": "https://localhost:8080/",
          "height": 640
        },
        "id": "L60xhmLjQeCk",
        "outputId": "e21694d2-7e72-41b6-9237-8ca97e3db9dc"
      },
      "execution_count": null,
      "outputs": [
        {
          "output_type": "execute_result",
          "data": {
            "text/plain": [
              "<folium.folium.Map at 0x7934d944e620>"
            ],
            "text/html": [
              "<div style=\"width:100%;\"><div style=\"position:relative;width:100%;height:0;padding-bottom:60%;\"><span style=\"color:#565656\">Make this Notebook Trusted to load map: File -> Trust Notebook</span><iframe srcdoc=\"&lt;!DOCTYPE html&gt;\n",
              "&lt;html&gt;\n",
              "&lt;head&gt;\n",
              "    \n",
              "    &lt;meta http-equiv=&quot;content-type&quot; content=&quot;text/html; charset=UTF-8&quot; /&gt;\n",
              "    \n",
              "        &lt;script&gt;\n",
              "            L_NO_TOUCH = false;\n",
              "            L_DISABLE_3D = false;\n",
              "        &lt;/script&gt;\n",
              "    \n",
              "    &lt;style&gt;html, body {width: 100%;height: 100%;margin: 0;padding: 0;}&lt;/style&gt;\n",
              "    &lt;style&gt;#map {position:absolute;top:0;bottom:0;right:0;left:0;}&lt;/style&gt;\n",
              "    &lt;script src=&quot;https://cdn.jsdelivr.net/npm/leaflet@1.9.3/dist/leaflet.js&quot;&gt;&lt;/script&gt;\n",
              "    &lt;script src=&quot;https://code.jquery.com/jquery-3.7.1.min.js&quot;&gt;&lt;/script&gt;\n",
              "    &lt;script src=&quot;https://cdn.jsdelivr.net/npm/bootstrap@5.2.2/dist/js/bootstrap.bundle.min.js&quot;&gt;&lt;/script&gt;\n",
              "    &lt;script src=&quot;https://cdnjs.cloudflare.com/ajax/libs/Leaflet.awesome-markers/2.0.2/leaflet.awesome-markers.js&quot;&gt;&lt;/script&gt;\n",
              "    &lt;link rel=&quot;stylesheet&quot; href=&quot;https://cdn.jsdelivr.net/npm/leaflet@1.9.3/dist/leaflet.css&quot;/&gt;\n",
              "    &lt;link rel=&quot;stylesheet&quot; href=&quot;https://cdn.jsdelivr.net/npm/bootstrap@5.2.2/dist/css/bootstrap.min.css&quot;/&gt;\n",
              "    &lt;link rel=&quot;stylesheet&quot; href=&quot;https://netdna.bootstrapcdn.com/bootstrap/3.0.0/css/bootstrap-glyphicons.css&quot;/&gt;\n",
              "    &lt;link rel=&quot;stylesheet&quot; href=&quot;https://cdn.jsdelivr.net/npm/@fortawesome/fontawesome-free@6.2.0/css/all.min.css&quot;/&gt;\n",
              "    &lt;link rel=&quot;stylesheet&quot; href=&quot;https://cdnjs.cloudflare.com/ajax/libs/Leaflet.awesome-markers/2.0.2/leaflet.awesome-markers.css&quot;/&gt;\n",
              "    &lt;link rel=&quot;stylesheet&quot; href=&quot;https://cdn.jsdelivr.net/gh/python-visualization/folium/folium/templates/leaflet.awesome.rotate.min.css&quot;/&gt;\n",
              "    \n",
              "            &lt;meta name=&quot;viewport&quot; content=&quot;width=device-width,\n",
              "                initial-scale=1.0, maximum-scale=1.0, user-scalable=no&quot; /&gt;\n",
              "            &lt;style&gt;\n",
              "                #map_94fb0bf1f8c00c41acc85a5708389835 {\n",
              "                    position: relative;\n",
              "                    width: 100.0%;\n",
              "                    height: 100.0%;\n",
              "                    left: 0.0%;\n",
              "                    top: 0.0%;\n",
              "                }\n",
              "                .leaflet-container { font-size: 1rem; }\n",
              "            &lt;/style&gt;\n",
              "        \n",
              "&lt;/head&gt;\n",
              "&lt;body&gt;\n",
              "    \n",
              "    \n",
              "            &lt;div class=&quot;folium-map&quot; id=&quot;map_94fb0bf1f8c00c41acc85a5708389835&quot; &gt;&lt;/div&gt;\n",
              "        \n",
              "&lt;/body&gt;\n",
              "&lt;script&gt;\n",
              "    \n",
              "    \n",
              "            var map_94fb0bf1f8c00c41acc85a5708389835 = L.map(\n",
              "                &quot;map_94fb0bf1f8c00c41acc85a5708389835&quot;,\n",
              "                {\n",
              "                    center: [37.4729081, 127.039306],\n",
              "                    crs: L.CRS.EPSG3857,\n",
              "                    zoom: 10,\n",
              "                    zoomControl: true,\n",
              "                    preferCanvas: false,\n",
              "                }\n",
              "            );\n",
              "\n",
              "            \n",
              "\n",
              "        \n",
              "    \n",
              "            var tile_layer_dfca336ac732342f86b7ec74d01e2028 = L.tileLayer(\n",
              "                &quot;https://tile.openstreetmap.org/{z}/{x}/{y}.png&quot;,\n",
              "                {&quot;attribution&quot;: &quot;\\u0026copy; \\u003ca href=\\&quot;https://www.openstreetmap.org/copyright\\&quot;\\u003eOpenStreetMap\\u003c/a\\u003e contributors&quot;, &quot;detectRetina&quot;: false, &quot;maxNativeZoom&quot;: 19, &quot;maxZoom&quot;: 19, &quot;minZoom&quot;: 0, &quot;noWrap&quot;: false, &quot;opacity&quot;: 1, &quot;subdomains&quot;: &quot;abc&quot;, &quot;tms&quot;: false}\n",
              "            );\n",
              "        \n",
              "    \n",
              "            tile_layer_dfca336ac732342f86b7ec74d01e2028.addTo(map_94fb0bf1f8c00c41acc85a5708389835);\n",
              "        \n",
              "&lt;/script&gt;\n",
              "&lt;/html&gt;\" style=\"position:absolute;width:100%;height:100%;left:0;top:0;border:none !important;\" allowfullscreen webkitallowfullscreen mozallowfullscreen></iframe></div></div>"
            ]
          },
          "metadata": {},
          "execution_count": 6
        }
      ]
    },
    {
      "cell_type": "code",
      "source": [
        "geo_json = 'busan_gu.json'\n",
        "busan_map = folium.Map(location=[35.137922, 129.055628], tiles='CartoDB positron', zoom_start = 10)\n",
        "folium.Choropleth(geo_data=geo_json,\n",
        "                     key_on='properties.adm_cd',\n",
        "                     highlight=True,\n",
        "                     fill_opacity=0.05,\n",
        "                     line_opacity=1,\n",
        "                     fill_color='PuRd').add_to(busan_map)\n",
        "\n",
        "busan_map"
      ],
      "metadata": {
        "colab": {
          "base_uri": "https://localhost:8080/",
          "height": 640
        },
        "id": "-Q7QaOg0QuB9",
        "outputId": "3f1b1975-a9d4-42c8-dafd-d5db1c765dfb"
      },
      "execution_count": null,
      "outputs": [
        {
          "output_type": "execute_result",
          "data": {
            "text/plain": [
              "<folium.folium.Map at 0x79349afbf490>"
            ],
            "text/html": [
              "<div style=\"width:100%;\"><div style=\"position:relative;width:100%;height:0;padding-bottom:60%;\"><span style=\"color:#565656\">Make this Notebook Trusted to load map: File -> Trust Notebook</span><iframe srcdoc=\"&lt;!DOCTYPE html&gt;\n",
              "&lt;html&gt;\n",
              "&lt;head&gt;\n",
              "    \n",
              "    &lt;meta http-equiv=&quot;content-type&quot; content=&quot;text/html; charset=UTF-8&quot; /&gt;\n",
              "    \n",
              "        &lt;script&gt;\n",
              "            L_NO_TOUCH = false;\n",
              "            L_DISABLE_3D = false;\n",
              "        &lt;/script&gt;\n",
              "    \n",
              "    &lt;style&gt;html, body {width: 100%;height: 100%;margin: 0;padding: 0;}&lt;/style&gt;\n",
              "    &lt;style&gt;#map {position:absolute;top:0;bottom:0;right:0;left:0;}&lt;/style&gt;\n",
              "    &lt;script src=&quot;https://cdn.jsdelivr.net/npm/leaflet@1.9.3/dist/leaflet.js&quot;&gt;&lt;/script&gt;\n",
              "    &lt;script src=&quot;https://code.jquery.com/jquery-3.7.1.min.js&quot;&gt;&lt;/script&gt;\n",
              "    &lt;script src=&quot;https://cdn.jsdelivr.net/npm/bootstrap@5.2.2/dist/js/bootstrap.bundle.min.js&quot;&gt;&lt;/script&gt;\n",
              "    &lt;script src=&quot;https://cdnjs.cloudflare.com/ajax/libs/Leaflet.awesome-markers/2.0.2/leaflet.awesome-markers.js&quot;&gt;&lt;/script&gt;\n",
              "    &lt;link rel=&quot;stylesheet&quot; href=&quot;https://cdn.jsdelivr.net/npm/leaflet@1.9.3/dist/leaflet.css&quot;/&gt;\n",
              "    &lt;link rel=&quot;stylesheet&quot; href=&quot;https://cdn.jsdelivr.net/npm/bootstrap@5.2.2/dist/css/bootstrap.min.css&quot;/&gt;\n",
              "    &lt;link rel=&quot;stylesheet&quot; href=&quot;https://netdna.bootstrapcdn.com/bootstrap/3.0.0/css/bootstrap-glyphicons.css&quot;/&gt;\n",
              "    &lt;link rel=&quot;stylesheet&quot; href=&quot;https://cdn.jsdelivr.net/npm/@fortawesome/fontawesome-free@6.2.0/css/all.min.css&quot;/&gt;\n",
              "    &lt;link rel=&quot;stylesheet&quot; href=&quot;https://cdnjs.cloudflare.com/ajax/libs/Leaflet.awesome-markers/2.0.2/leaflet.awesome-markers.css&quot;/&gt;\n",
              "    &lt;link rel=&quot;stylesheet&quot; href=&quot;https://cdn.jsdelivr.net/gh/python-visualization/folium/folium/templates/leaflet.awesome.rotate.min.css&quot;/&gt;\n",
              "    \n",
              "            &lt;meta name=&quot;viewport&quot; content=&quot;width=device-width,\n",
              "                initial-scale=1.0, maximum-scale=1.0, user-scalable=no&quot; /&gt;\n",
              "            &lt;style&gt;\n",
              "                #map_438cf334e7ffe22f077fb0bf6c844489 {\n",
              "                    position: relative;\n",
              "                    width: 100.0%;\n",
              "                    height: 100.0%;\n",
              "                    left: 0.0%;\n",
              "                    top: 0.0%;\n",
              "                }\n",
              "                .leaflet-container { font-size: 1rem; }\n",
              "            &lt;/style&gt;\n",
              "        \n",
              "&lt;/head&gt;\n",
              "&lt;body&gt;\n",
              "    \n",
              "    \n",
              "            &lt;div class=&quot;folium-map&quot; id=&quot;map_438cf334e7ffe22f077fb0bf6c844489&quot; &gt;&lt;/div&gt;\n",
              "        \n",
              "&lt;/body&gt;\n",
              "&lt;script&gt;\n",
              "    \n",
              "    \n",
              "            var map_438cf334e7ffe22f077fb0bf6c844489 = L.map(\n",
              "                &quot;map_438cf334e7ffe22f077fb0bf6c844489&quot;,\n",
              "                {\n",
              "                    center: [35.137922, 129.055628],\n",
              "                    crs: L.CRS.EPSG3857,\n",
              "                    zoom: 10,\n",
              "                    zoomControl: true,\n",
              "                    preferCanvas: false,\n",
              "                }\n",
              "            );\n",
              "\n",
              "            \n",
              "\n",
              "        \n",
              "    \n",
              "            var tile_layer_6e472de5a51433a60948deed2f44bafd = L.tileLayer(\n",
              "                &quot;https://{s}.basemaps.cartocdn.com/light_all/{z}/{x}/{y}{r}.png&quot;,\n",
              "                {&quot;attribution&quot;: &quot;\\u0026copy; \\u003ca href=\\&quot;https://www.openstreetmap.org/copyright\\&quot;\\u003eOpenStreetMap\\u003c/a\\u003e contributors \\u0026copy; \\u003ca href=\\&quot;https://carto.com/attributions\\&quot;\\u003eCARTO\\u003c/a\\u003e&quot;, &quot;detectRetina&quot;: false, &quot;maxNativeZoom&quot;: 20, &quot;maxZoom&quot;: 20, &quot;minZoom&quot;: 0, &quot;noWrap&quot;: false, &quot;opacity&quot;: 1, &quot;subdomains&quot;: &quot;abcd&quot;, &quot;tms&quot;: false}\n",
              "            );\n",
              "        \n",
              "    \n",
              "            tile_layer_6e472de5a51433a60948deed2f44bafd.addTo(map_438cf334e7ffe22f077fb0bf6c844489);\n",
              "        \n",
              "    \n",
              "            var choropleth_ed340ff0e1d8e7448b5aad0cdd2a9b93 = L.featureGroup(\n",
              "                {}\n",
              "            );\n",
              "        \n",
              "    \n",
              "        function geo_json_25ab254aff6693ab098cc3d511d157c7_styler(feature) {\n",
              "            switch(feature.id) {\n",
              "                default:\n",
              "                    return {&quot;color&quot;: &quot;black&quot;, &quot;fillColor&quot;: &quot;PuRd&quot;, &quot;fillOpacity&quot;: 0.05, &quot;opacity&quot;: 1, &quot;weight&quot;: 1};\n",
              "            }\n",
              "        }\n",
              "        function geo_json_25ab254aff6693ab098cc3d511d157c7_highlighter(feature) {\n",
              "            switch(feature.id) {\n",
              "                default:\n",
              "                    return {&quot;fillOpacity&quot;: 0.25, &quot;weight&quot;: 3};\n",
              "            }\n",
              "        }\n",
              "\n",
              "        function geo_json_25ab254aff6693ab098cc3d511d157c7_onEachFeature(feature, layer) {\n",
              "            layer.on({\n",
              "                mouseout: function(e) {\n",
              "                    if(typeof e.target.setStyle === &quot;function&quot;){\n",
              "                            geo_json_25ab254aff6693ab098cc3d511d157c7.resetStyle(e.target);\n",
              "                    }\n",
              "                },\n",
              "                mouseover: function(e) {\n",
              "                    if(typeof e.target.setStyle === &quot;function&quot;){\n",
              "                        const highlightStyle = geo_json_25ab254aff6693ab098cc3d511d157c7_highlighter(e.target.feature)\n",
              "                        e.target.setStyle(highlightStyle);\n",
              "                    }\n",
              "                },\n",
              "            });\n",
              "        };\n",
              "        var geo_json_25ab254aff6693ab098cc3d511d157c7 = L.geoJson(null, {\n",
              "                onEachFeature: geo_json_25ab254aff6693ab098cc3d511d157c7_onEachFeature,\n",
              "            \n",
              "                style: geo_json_25ab254aff6693ab098cc3d511d157c7_styler,\n",
              "        });\n",
              "\n",
              "        function geo_json_25ab254aff6693ab098cc3d511d157c7_add (data) {\n",
              "            geo_json_25ab254aff6693ab098cc3d511d157c7\n",
              "                .addData(data);\n",
              "        }\n",
              "            geo_json_25ab254aff6693ab098cc3d511d157c7_add({&quot;features&quot;: [{&quot;geometry&quot;: {&quot;coordinates&quot;: [[[129.032, 35.116], [129.038, 35.112], [129.042, 35.111], [129.041, 35.108], [129.038, 35.104], [129.038, 35.098], [129.037, 35.097], [129.029, 35.096], [129.026, 35.096], [129.024, 35.1], [129.022, 35.102], [129.021, 35.106], [129.023, 35.109], [129.024, 35.109], [129.026, 35.111], [129.028, 35.11], [129.028, 35.115], [129.032, 35.116]]], &quot;type&quot;: &quot;Polygon&quot;}, &quot;id&quot;: &quot;\\uc911\\uad6c&quot;, &quot;properties&quot;: {&quot;base_year&quot;: &quot;2013&quot;, &quot;code&quot;: &quot;21010&quot;, &quot;name&quot;: &quot;\\uc911\\uad6c&quot;, &quot;name_eng&quot;: &quot;Jung-gu&quot;}, &quot;type&quot;: &quot;Feature&quot;}, {&quot;geometry&quot;: {&quot;coordinates&quot;: [[[129.023, 35.076], [129.021, 35.078], [129.018, 35.077], [129.017, 35.074], [129.019, 35.07], [129.021, 35.07], [129.021, 35.066], [129.02, 35.065], [129.022, 35.062], [129.019, 35.059], [129.018, 35.058], [129.016, 35.057], [129.015, 35.053], [129.012, 35.052], [129.008, 35.063], [129.011, 35.063], [129.012, 35.065], [129.009, 35.066], [129.006, 35.071], [129.004, 35.078], [129.008, 35.079], [129.011, 35.077], [129.012, 35.08], [129.011, 35.083], [129.012, 35.084], [129.014, 35.091], [129.014, 35.094], [129.01, 35.099], [129.007, 35.1], [129.007, 35.101], [129.01, 35.106], [129.006, 35.109], [129.004, 35.111], [129.004, 35.113], [129.002, 35.114], [129.003, 35.117], [128.999, 35.119], [129, 35.124], [129.003, 35.125], [129.003, 35.131], [129.003, 35.134], [129.004, 35.136], [128.996, 35.14], [128.998, 35.141], [129.002, 35.141], [129.004, 35.139], [129.008, 35.14], [129.011, 35.139], [129.013, 35.137], [129.016, 35.136], [129.022, 35.137], [129.026, 35.136], [129.026, 35.133], [129.026, 35.126], [129.026, 35.125], [129.025, 35.122], [129.025, 35.118], [129.027, 35.116], [129.028, 35.112], [129.024, 35.109], [129.023, 35.109], [129.021, 35.106], [129.022, 35.102], [129.024, 35.1], [129.026, 35.096], [129.025, 35.094], [129.027, 35.085], [129.024, 35.076], [129.023, 35.076]]], &quot;type&quot;: &quot;Polygon&quot;}, &quot;id&quot;: &quot;\\uc11c\\uad6c&quot;, &quot;properties&quot;: {&quot;base_year&quot;: &quot;2013&quot;, &quot;code&quot;: &quot;21020&quot;, &quot;name&quot;: &quot;\\uc11c\\uad6c&quot;, &quot;name_eng&quot;: &quot;Seo-gu&quot;}, &quot;type&quot;: &quot;Feature&quot;}, {&quot;geometry&quot;: {&quot;coordinates&quot;: [[[129.043, 35.146], [129.046, 35.146], [129.048, 35.144], [129.052, 35.142], [129.059, 35.141], [129.065, 35.141], [129.066, 35.139], [129.065, 35.135], [129.066, 35.13], [129.065, 35.127], [129.056, 35.118], [129.053, 35.12], [129.055, 35.122], [129.056, 35.125], [129.055, 35.126], [129.05, 35.124], [129.049, 35.12], [129.054, 35.117], [129.053, 35.116], [129.048, 35.119], [129.047, 35.117], [129.051, 35.114], [129.05, 35.113], [129.045, 35.116], [129.042, 35.11], [129.038, 35.112], [129.032, 35.117], [129.027, 35.116], [129.024, 35.119], [129.026, 35.125], [129.026, 35.126], [129.026, 35.133], [129.026, 35.136], [129.032, 35.138], [129.035, 35.138], [129.039, 35.14], [129.039, 35.144], [129.041, 35.146], [129.043, 35.146]]], &quot;type&quot;: &quot;Polygon&quot;}, &quot;id&quot;: &quot;\\ub3d9\\uad6c&quot;, &quot;properties&quot;: {&quot;base_year&quot;: &quot;2013&quot;, &quot;code&quot;: &quot;21030&quot;, &quot;name&quot;: &quot;\\ub3d9\\uad6c&quot;, &quot;name_eng&quot;: &quot;Dong-gu&quot;}, &quot;type&quot;: &quot;Feature&quot;}, {&quot;geometry&quot;: {&quot;coordinates&quot;: [[[129.071, 35.059], [129.069, 35.061], [129.065, 35.061], [129.065, 35.062], [129.066, 35.066], [129.065, 35.069], [129.063, 35.07], [129.057, 35.071], [129.053, 35.072], [129.047, 35.076], [129.045, 35.078], [129.041, 35.081], [129.04, 35.081], [129.034, 35.085], [129.034, 35.089], [129.031, 35.092], [129.032, 35.094], [129.037, 35.092], [129.036, 35.095], [129.045, 35.097], [129.047, 35.096], [129.051, 35.1], [129.055, 35.101], [129.059, 35.101], [129.068, 35.096], [129.071, 35.094], [129.079, 35.085], [129.079, 35.082], [129.084, 35.074], [129.087, 35.077], [129.093, 35.08], [129.096, 35.08], [129.095, 35.077], [129.092, 35.076], [129.091, 35.074], [129.087, 35.073], [129.086, 35.074], [129.08, 35.071], [129.082, 35.07], [129.085, 35.07], [129.085, 35.066], [129.088, 35.063], [129.091, 35.061], [129.096, 35.06], [129.095, 35.057], [129.092, 35.054], [129.092, 35.051], [129.086, 35.049], [129.083, 35.05], [129.081, 35.053], [129.082, 35.056], [129.079, 35.059], [129.077, 35.061], [129.075, 35.061], [129.071, 35.059]]], &quot;type&quot;: &quot;Polygon&quot;}, &quot;id&quot;: &quot;\\uc601\\ub3c4\\uad6c&quot;, &quot;properties&quot;: {&quot;base_year&quot;: &quot;2013&quot;, &quot;code&quot;: &quot;21040&quot;, &quot;name&quot;: &quot;\\uc601\\ub3c4\\uad6c&quot;, &quot;name_eng&quot;: &quot;Youngdo-gu&quot;}, &quot;type&quot;: &quot;Feature&quot;}, {&quot;geometry&quot;: {&quot;coordinates&quot;: [[[129.065, 35.177], [129.067, 35.176], [129.07, 35.176], [129.073, 35.179], [129.075, 35.179], [129.076, 35.176], [129.079, 35.175], [129.079, 35.173], [129.082, 35.171], [129.081, 35.168], [129.079, 35.167], [129.078, 35.164], [129.081, 35.16], [129.083, 35.158], [129.082, 35.155], [129.08, 35.154], [129.079, 35.151], [129.075, 35.151], [129.067, 35.148], [129.066, 35.149], [129.063, 35.149], [129.063, 35.144], [129.065, 35.141], [129.059, 35.141], [129.052, 35.142], [129.048, 35.144], [129.046, 35.146], [129.041, 35.146], [129.039, 35.144], [129.039, 35.14], [129.035, 35.138], [129.032, 35.138], [129.026, 35.136], [129.022, 35.137], [129.016, 35.136], [129.012, 35.137], [129.016, 35.143], [129.014, 35.146], [129.016, 35.147], [129.016, 35.155], [129.011, 35.159], [129.011, 35.163], [129.013, 35.166], [129.013, 35.169], [129.011, 35.171], [129.011, 35.173], [129.013, 35.176], [129.014, 35.177], [129.017, 35.18], [129.02, 35.181], [129.021, 35.182], [129.021, 35.187], [129.026, 35.192], [129.026, 35.194], [129.029, 35.194], [129.032, 35.196], [129.034, 35.198], [129.04, 35.199], [129.044, 35.199], [129.048, 35.195], [129.048, 35.19], [129.051, 35.187], [129.051, 35.185], [129.055, 35.184], [129.06, 35.184], [129.062, 35.183], [129.062, 35.18], [129.063, 35.177], [129.065, 35.177]]], &quot;type&quot;: &quot;Polygon&quot;}, &quot;id&quot;: &quot;\\ubd80\\uc0b0\\uc9c4\\uad6c&quot;, &quot;properties&quot;: {&quot;base_year&quot;: &quot;2013&quot;, &quot;code&quot;: &quot;21050&quot;, &quot;name&quot;: &quot;\\ubd80\\uc0b0\\uc9c4\\uad6c&quot;, &quot;name_eng&quot;: &quot;Busanjin-gu&quot;}, &quot;type&quot;: &quot;Feature&quot;}, {&quot;geometry&quot;: {&quot;coordinates&quot;: [[[129.083, 35.224], [129.085, 35.222], [129.087, 35.222], [129.086, 35.219], [129.088, 35.218], [129.094, 35.215], [129.095, 35.215], [129.101, 35.213], [129.102, 35.211], [129.106, 35.21], [129.107, 35.211], [129.11, 35.21], [129.111, 35.204], [129.116, 35.201], [129.115, 35.198], [129.114, 35.194], [129.115, 35.188], [129.115, 35.187], [129.115, 35.184], [129.114, 35.184], [129.112, 35.189], [129.108, 35.19], [129.106, 35.19], [129.1, 35.191], [129.097, 35.193], [129.093, 35.193], [129.087, 35.194], [129.084, 35.195], [129.082, 35.198], [129.078, 35.199], [129.074, 35.198], [129.072, 35.195], [129.064, 35.194], [129.062, 35.192], [129.057, 35.193], [129.056, 35.192], [129.053, 35.192], [129.048, 35.195], [129.044, 35.199], [129.044, 35.202], [129.047, 35.202], [129.047, 35.204], [129.05, 35.207], [129.051, 35.209], [129.051, 35.213], [129.053, 35.216], [129.056, 35.218], [129.059, 35.225], [129.062, 35.226], [129.068, 35.225], [129.074, 35.225], [129.078, 35.226], [129.081, 35.223], [129.083, 35.224]]], &quot;type&quot;: &quot;Polygon&quot;}, &quot;id&quot;: &quot;\\ub3d9\\ub798\\uad6c&quot;, &quot;properties&quot;: {&quot;base_year&quot;: &quot;2013&quot;, &quot;code&quot;: &quot;21060&quot;, &quot;name&quot;: &quot;\\ub3d9\\ub798\\uad6c&quot;, &quot;name_eng&quot;: &quot;Dongnae-gu&quot;}, &quot;type&quot;: &quot;Feature&quot;}, {&quot;geometry&quot;: {&quot;coordinates&quot;: [[[129.111, 35.136], [129.11, 35.134], [129.113, 35.133], [129.116, 35.133], [129.115, 35.131], [129.117, 35.13], [129.121, 35.134], [129.122, 35.132], [129.121, 35.13], [129.123, 35.126], [129.128, 35.119], [129.127, 35.113], [129.128, 35.111], [129.125, 35.106], [129.124, 35.102], [129.123, 35.099], [129.119, 35.099], [129.116, 35.1], [129.113, 35.103], [129.11, 35.101], [129.107, 35.103], [129.105, 35.099], [129.1, 35.099], [129.099, 35.097], [129.096, 35.097], [129.095, 35.099], [129.094, 35.107], [129.093, 35.109], [129.09, 35.109], [129.09, 35.104], [129.075, 35.104], [129.067, 35.108], [129.07, 35.111], [129.068, 35.112], [129.072, 35.116], [129.074, 35.117], [129.072, 35.119], [129.073, 35.122], [129.07, 35.123], [129.069, 35.122], [129.066, 35.123], [129.067, 35.126], [129.066, 35.14], [129.063, 35.143], [129.063, 35.149], [129.066, 35.149], [129.067, 35.148], [129.075, 35.151], [129.079, 35.151], [129.08, 35.154], [129.082, 35.155], [129.082, 35.157], [129.089, 35.161], [129.093, 35.16], [129.095, 35.161], [129.099, 35.155], [129.101, 35.152], [129.102, 35.149], [129.103, 35.144], [129.102, 35.143], [129.106, 35.139], [129.111, 35.136]]], &quot;type&quot;: &quot;Polygon&quot;}, &quot;id&quot;: &quot;\\ub0a8\\uad6c&quot;, &quot;properties&quot;: {&quot;base_year&quot;: &quot;2013&quot;, &quot;code&quot;: &quot;21070&quot;, &quot;name&quot;: &quot;\\ub0a8\\uad6c&quot;, &quot;name_eng&quot;: &quot;Nam-gu&quot;}, &quot;type&quot;: &quot;Feature&quot;}, {&quot;geometry&quot;: {&quot;coordinates&quot;: [[[129.047, 35.274], [129.046, 35.271], [129.044, 35.27], [129.042, 35.263], [129.038, 35.262], [129.037, 35.261], [129.04, 35.259], [129.042, 35.257], [129.047, 35.257], [129.049, 35.255], [129.045, 35.251], [129.046, 35.249], [129.046, 35.247], [129.048, 35.246], [129.049, 35.245], [129.05, 35.241], [129.049, 35.239], [129.047, 35.238], [129.047, 35.235], [129.044, 35.233], [129.044, 35.231], [129.047, 35.23], [129.049, 35.229], [129.056, 35.228], [129.06, 35.23], [129.062, 35.226], [129.059, 35.225], [129.056, 35.218], [129.053, 35.216], [129.051, 35.213], [129.051, 35.209], [129.05, 35.207], [129.047, 35.204], [129.047, 35.202], [129.044, 35.202], [129.044, 35.199], [129.04, 35.199], [129.034, 35.198], [129.032, 35.196], [129.029, 35.194], [129.026, 35.194], [129.026, 35.192], [129.021, 35.188], [129.017, 35.189], [129.011, 35.189], [129.008, 35.188], [129.004, 35.19], [129, 35.19], [129, 35.192], [128.991, 35.196], [128.988, 35.196], [128.989, 35.2], [128.987, 35.202], [128.991, 35.204], [128.994, 35.208], [128.995, 35.213], [128.997, 35.225], [128.998, 35.233], [128.997, 35.236], [128.999, 35.238], [129.002, 35.245], [129.006, 35.252], [129.012, 35.263], [129.015, 35.271], [129.013, 35.274], [129.017, 35.275], [129.027, 35.277], [129.031, 35.277], [129.035, 35.276], [129.036, 35.275], [129.047, 35.274]]], &quot;type&quot;: &quot;Polygon&quot;}, &quot;id&quot;: &quot;\\ubd81\\uad6c&quot;, &quot;properties&quot;: {&quot;base_year&quot;: &quot;2013&quot;, &quot;code&quot;: &quot;21080&quot;, &quot;name&quot;: &quot;\\ubd81\\uad6c&quot;, &quot;name_eng&quot;: &quot;Buk-gu&quot;}, &quot;type&quot;: &quot;Feature&quot;}, {&quot;geometry&quot;: {&quot;coordinates&quot;: [[[129.127, 35.166], [129.125, 35.167], [129.125, 35.168], [129.124, 35.17], [129.123, 35.171], [129.123, 35.172], [129.121, 35.173], [129.121, 35.174], [129.118, 35.18], [129.118, 35.181], [129.115, 35.187], [129.115, 35.188], [129.114, 35.194], [129.115, 35.198], [129.116, 35.201], [129.111, 35.204], [129.11, 35.21], [129.112, 35.213], [129.116, 35.213], [129.119, 35.216], [129.117, 35.222], [129.118, 35.224], [129.121, 35.226], [129.127, 35.227], [129.13, 35.231], [129.13, 35.233], [129.131, 35.235], [129.137, 35.238], [129.142, 35.242], [129.141, 35.244], [129.144, 35.247], [129.145, 35.251], [129.149, 35.247], [129.149, 35.246], [129.156, 35.244], [129.157, 35.243], [129.155, 35.239], [129.155, 35.236], [129.161, 35.234], [129.164, 35.231], [129.167, 35.23], [129.169, 35.228], [129.169, 35.225], [129.165, 35.22], [129.165, 35.215], [129.16, 35.212], [129.16, 35.21], [129.16, 35.206], [129.163, 35.206], [129.165, 35.203], [129.17, 35.201], [129.172, 35.202], [129.176, 35.201], [129.179, 35.198], [129.183, 35.198], [129.185, 35.195], [129.183, 35.191], [129.185, 35.19], [129.188, 35.189], [129.191, 35.192], [129.193, 35.194], [129.195, 35.199], [129.199, 35.2], [129.207, 35.197], [129.207, 35.195], [129.206, 35.191], [129.207, 35.185], [129.208, 35.183], [129.205, 35.181], [129.201, 35.18], [129.197, 35.176], [129.198, 35.173], [129.196, 35.164], [129.194, 35.161], [129.187, 35.159], [129.183, 35.156], [129.181, 35.155], [129.177, 35.155], [129.174, 35.157], [129.17, 35.159], [129.166, 35.16], [129.159, 35.159], [129.155, 35.157], [129.153, 35.152], [129.15, 35.153], [129.151, 35.156], [129.149, 35.157], [129.146, 35.153], [129.143, 35.154], [129.141, 35.157], [129.142, 35.159], [129.139, 35.161], [129.137, 35.16], [129.134, 35.162], [129.128, 35.166], [129.127, 35.166]]], &quot;type&quot;: &quot;Polygon&quot;}, &quot;id&quot;: &quot;\\ud574\\uc6b4\\ub300\\uad6c&quot;, &quot;properties&quot;: {&quot;base_year&quot;: &quot;2013&quot;, &quot;code&quot;: &quot;21090&quot;, &quot;name&quot;: &quot;\\ud574\\uc6b4\\ub300\\uad6c&quot;, &quot;name_eng&quot;: &quot;Haeundae-gu&quot;}, &quot;type&quot;: &quot;Feature&quot;}, {&quot;geometry&quot;: {&quot;coordinates&quot;: [[[128.959, 35.118], [128.962, 35.12], [128.964, 35.122], [128.972, 35.119], [128.976, 35.117], [128.98, 35.117], [128.982, 35.12], [128.987, 35.124], [128.99, 35.125], [129, 35.123], [128.999, 35.119], [129.003, 35.117], [129.002, 35.114], [129.004, 35.113], [129.004, 35.111], [129.006, 35.109], [129.01, 35.106], [129.007, 35.101], [129.007, 35.1], [129.01, 35.099], [129.014, 35.094], [129.014, 35.091], [129.012, 35.084], [129.011, 35.083], [129.012, 35.08], [129.011, 35.077], [129.008, 35.079], [129.004, 35.078], [129.004, 35.081], [129.005, 35.084], [129.003, 35.085], [128.997, 35.083], [128.993, 35.084], [128.993, 35.08], [128.995, 35.076], [128.994, 35.074], [128.995, 35.071], [128.995, 35.063], [129.001, 35.048], [128.995, 35.045], [128.992, 35.045], [128.993, 35.049], [128.988, 35.058], [128.985, 35.06], [128.978, 35.057], [128.977, 35.056], [128.975, 35.057], [128.973, 35.057], [128.972, 35.054], [128.976, 35.053], [128.98, 35.053], [128.983, 35.052], [128.982, 35.049], [128.976, 35.048], [128.972, 35.049], [128.97, 35.047], [128.969, 35.045], [128.974, 35.042], [128.969, 35.037], [128.968, 35.037], [128.966, 35.034], [128.964, 35.034], [128.964, 35.037], [128.967, 35.04], [128.968, 35.043], [128.969, 35.045], [128.967, 35.048], [128.958, 35.051], [128.958, 35.053], [128.951, 35.08], [128.951, 35.082], [128.951, 35.085], [128.955, 35.092], [128.955, 35.095], [128.956, 35.106], [128.956, 35.107], [128.951, 35.107], [128.949, 35.107], [128.947, 35.102], [128.947, 35.099], [128.944, 35.088], [128.938, 35.089], [128.936, 35.086], [128.934, 35.087], [128.934, 35.093], [128.935, 35.097], [128.937, 35.101], [128.936, 35.105], [128.939, 35.109], [128.935, 35.11], [128.935, 35.112], [128.938, 35.114], [128.942, 35.119], [128.945, 35.121], [128.948, 35.123], [128.951, 35.129], [128.957, 35.135], [128.959, 35.137], [128.962, 35.135], [128.961, 35.131], [128.959, 35.128], [128.957, 35.124], [128.958, 35.119], [128.959, 35.118]]], &quot;type&quot;: &quot;Polygon&quot;}, &quot;id&quot;: &quot;\\uc0ac\\ud558\\uad6c&quot;, &quot;properties&quot;: {&quot;base_year&quot;: &quot;2013&quot;, &quot;code&quot;: &quot;21100&quot;, &quot;name&quot;: &quot;\\uc0ac\\ud558\\uad6c&quot;, &quot;name_eng&quot;: &quot;Saha-gu&quot;}, &quot;type&quot;: &quot;Feature&quot;}, {&quot;geometry&quot;: {&quot;coordinates&quot;: [[[129.109, 35.305], [129.114, 35.303], [129.116, 35.302], [129.121, 35.302], [129.123, 35.301], [129.13, 35.298], [129.131, 35.293], [129.132, 35.292], [129.128, 35.289], [129.126, 35.283], [129.124, 35.281], [129.126, 35.278], [129.125, 35.274], [129.122, 35.271], [129.121, 35.267], [129.121, 35.264], [129.123, 35.262], [129.126, 35.262], [129.129, 35.26], [129.133, 35.261], [129.134, 35.259], [129.138, 35.261], [129.14, 35.26], [129.138, 35.254], [129.142, 35.251], [129.145, 35.251], [129.144, 35.247], [129.141, 35.244], [129.142, 35.242], [129.137, 35.238], [129.131, 35.235], [129.13, 35.233], [129.13, 35.231], [129.127, 35.227], [129.121, 35.226], [129.118, 35.224], [129.117, 35.222], [129.119, 35.216], [129.116, 35.213], [129.112, 35.213], [129.11, 35.21], [129.107, 35.211], [129.106, 35.21], [129.102, 35.211], [129.101, 35.213], [129.095, 35.215], [129.094, 35.215], [129.088, 35.218], [129.086, 35.219], [129.087, 35.222], [129.085, 35.222], [129.083, 35.224], [129.081, 35.223], [129.078, 35.226], [129.074, 35.225], [129.068, 35.225], [129.062, 35.226], [129.06, 35.23], [129.056, 35.228], [129.049, 35.229], [129.047, 35.23], [129.044, 35.231], [129.044, 35.233], [129.047, 35.235], [129.047, 35.238], [129.049, 35.239], [129.05, 35.241], [129.049, 35.245], [129.048, 35.246], [129.046, 35.247], [129.046, 35.249], [129.045, 35.251], [129.049, 35.255], [129.047, 35.257], [129.042, 35.257], [129.04, 35.259], [129.037, 35.261], [129.038, 35.262], [129.042, 35.263], [129.044, 35.27], [129.046, 35.271], [129.047, 35.274], [129.047, 35.276], [129.051, 35.28], [129.053, 35.281], [129.054, 35.283], [129.052, 35.286], [129.053, 35.289], [129.056, 35.292], [129.058, 35.295], [129.059, 35.295], [129.071, 35.295], [129.074, 35.291], [129.075, 35.291], [129.081, 35.296], [129.085, 35.3], [129.086, 35.302], [129.091, 35.303], [129.093, 35.303], [129.099, 35.304], [129.106, 35.306], [129.109, 35.305]]], &quot;type&quot;: &quot;Polygon&quot;}, &quot;id&quot;: &quot;\\uae08\\uc815\\uad6c&quot;, &quot;properties&quot;: {&quot;base_year&quot;: &quot;2013&quot;, &quot;code&quot;: &quot;21110&quot;, &quot;name&quot;: &quot;\\uae08\\uc815\\uad6c&quot;, &quot;name_eng&quot;: &quot;Geumjeong-gu&quot;}, &quot;type&quot;: &quot;Feature&quot;}, {&quot;geometry&quot;: {&quot;coordinates&quot;: [[[128.829, 35.09], [128.832, 35.087], [128.835, 35.086], [128.835, 35.063], [128.833, 35.061], [128.833, 35.058], [128.834, 35.056], [128.838, 35.053], [128.842, 35.054], [128.846, 35.056], [128.851, 35.05], [128.85, 35.047], [128.85, 35.043], [128.851, 35.042], [128.849, 35.037], [128.848, 35.036], [128.844, 35.033], [128.842, 35.029], [128.843, 35.028], [128.843, 35.024], [128.838, 35.02], [128.835, 35.016], [128.834, 35.012], [128.837, 35.009], [128.84, 35.008], [128.841, 35.005], [128.839, 35.003], [128.837, 35], [128.839, 34.998], [128.836, 34.997], [128.833, 34.993], [128.829, 34.989], [128.828, 34.99], [128.83, 34.993], [128.83, 34.996], [128.825, 34.996], [128.824, 34.995], [128.822, 34.997], [128.822, 35.002], [128.82, 35.002], [128.82, 35.004], [128.823, 35.005], [128.824, 35.007], [128.821, 35.009], [128.827, 35.011], [128.827, 35.014], [128.824, 35.017], [128.821, 35.017], [128.817, 35.019], [128.813, 35.02], [128.811, 35.022], [128.806, 35.021], [128.808, 35.024], [128.812, 35.023], [128.815, 35.025], [128.816, 35.028], [128.813, 35.03], [128.81, 35.03], [128.808, 35.031], [128.809, 35.034], [128.811, 35.033], [128.813, 35.038], [128.812, 35.041], [128.807, 35.044], [128.805, 35.048], [128.8, 35.048], [128.798, 35.051], [128.797, 35.054], [128.801, 35.055], [128.805, 35.056], [128.808, 35.059], [128.812, 35.06], [128.819, 35.06], [128.822, 35.061], [128.824, 35.064], [128.821, 35.064], [128.806, 35.061], [128.805, 35.067], [128.832, 35.071], [128.832, 35.075], [128.835, 35.075], [128.835, 35.078], [128.812, 35.078], [128.812, 35.083], [128.819, 35.083], [128.819, 35.084], [128.822, 35.084], [128.822, 35.086], [128.826, 35.086], [128.826, 35.088], [128.829, 35.09], [128.836, 35.103], [128.838, 35.104], [128.842, 35.106], [128.843, 35.109], [128.843, 35.113], [128.842, 35.115], [128.838, 35.115], [128.837, 35.118], [128.836, 35.12], [128.838, 35.123], [128.835, 35.126], [128.835, 35.129], [128.833, 35.13], [128.83, 35.128], [128.827, 35.128], [128.827, 35.13], [128.818, 35.132], [128.815, 35.133], [128.811, 35.137], [128.807, 35.139], [128.807, 35.142], [128.802, 35.142], [128.802, 35.146], [128.798, 35.151], [128.794, 35.154], [128.795, 35.159], [128.797, 35.159], [128.801, 35.158], [128.802, 35.159], [128.806, 35.16], [128.809, 35.159], [128.812, 35.16], [128.813, 35.159], [128.816, 35.16], [128.822, 35.157], [128.823, 35.156], [128.828, 35.156], [128.828, 35.157], [128.834, 35.157], [128.836, 35.159], [128.841, 35.159], [128.843, 35.158], [128.844, 35.16], [128.844, 35.162], [128.846, 35.165], [128.852, 35.166], [128.858, 35.167], [128.86, 35.168], [128.865, 35.167], [128.867, 35.168], [128.872, 35.165], [128.872, 35.163], [128.87, 35.159], [128.867, 35.16], [128.865, 35.158], [128.872, 35.15], [128.877, 35.151], [128.875, 35.154], [128.875, 35.157], [128.875, 35.159], [128.881, 35.16], [128.882, 35.162], [128.879, 35.162], [128.878, 35.164], [128.876, 35.166], [128.877, 35.17], [128.872, 35.172], [128.873, 35.174], [128.88, 35.172], [128.88, 35.18], [128.881, 35.183], [128.876, 35.188], [128.876, 35.193], [128.87, 35.202], [128.874, 35.204], [128.879, 35.21], [128.882, 35.21], [128.886, 35.214], [128.889, 35.215], [128.897, 35.213], [128.905, 35.215], [128.91, 35.215], [128.905, 35.22], [128.909, 35.223], [128.913, 35.223], [128.917, 35.217], [128.92, 35.216], [128.929, 35.22], [128.935, 35.224], [128.937, 35.225], [128.94, 35.227], [128.944, 35.228], [128.949, 35.225], [128.957, 35.225], [128.967, 35.227], [128.974, 35.227], [128.984, 35.23], [128.99, 35.232], [128.994, 35.234], [128.997, 35.236], [128.998, 35.233], [128.997, 35.225], [128.995, 35.213], [128.994, 35.208], [128.991, 35.204], [128.982, 35.197], [128.977, 35.193], [128.97, 35.191], [128.966, 35.188], [128.963, 35.184], [128.963, 35.164], [128.961, 35.154], [128.96, 35.146], [128.96, 35.14], [128.96, 35.137], [128.957, 35.135], [128.951, 35.129], [128.948, 35.123], [128.945, 35.121], [128.942, 35.119], [128.938, 35.114], [128.933, 35.111], [128.933, 35.108], [128.931, 35.105], [128.93, 35.102], [128.931, 35.098], [128.93, 35.095], [128.926, 35.095], [128.926, 35.093], [128.916, 35.089], [128.912, 35.086], [128.912, 35.08], [128.911, 35.079], [128.895, 35.079], [128.895, 35.086], [128.898, 35.095], [128.9, 35.104], [128.901, 35.111], [128.902, 35.114], [128.905, 35.116], [128.906, 35.118], [128.898, 35.12], [128.894, 35.115], [128.893, 35.112], [128.889, 35.108], [128.888, 35.09], [128.883, 35.082], [128.884, 35.08], [128.88, 35.08], [128.87, 35.081], [128.868, 35.083], [128.838, 35.083], [128.835, 35.088], [128.832, 35.088], [128.825, 35.095], [128.825, 35.096], [128.822, 35.098], [128.823, 35.102], [128.825, 35.102], [128.832, 35.103], [128.834, 35.102], [128.836, 35.103]]], &quot;type&quot;: &quot;Polygon&quot;}, &quot;id&quot;: &quot;\\uac15\\uc11c\\uad6c&quot;, &quot;properties&quot;: {&quot;base_year&quot;: &quot;2013&quot;, &quot;code&quot;: &quot;21120&quot;, &quot;name&quot;: &quot;\\uac15\\uc11c\\uad6c&quot;, &quot;name_eng&quot;: &quot;Gangseo-gu&quot;}, &quot;type&quot;: &quot;Feature&quot;}, {&quot;geometry&quot;: {&quot;coordinates&quot;: [[[129.067, 35.176], [129.065, 35.177], [129.063, 35.177], [129.062, 35.18], [129.062, 35.183], [129.06, 35.184], [129.055, 35.184], [129.051, 35.185], [129.051, 35.187], [129.048, 35.19], [129.048, 35.195], [129.053, 35.192], [129.056, 35.192], [129.057, 35.193], [129.062, 35.192], [129.064, 35.194], [129.072, 35.195], [129.074, 35.198], [129.078, 35.199], [129.082, 35.198], [129.084, 35.195], [129.087, 35.194], [129.093, 35.193], [129.097, 35.193], [129.1, 35.191], [129.106, 35.19], [129.108, 35.19], [129.112, 35.189], [129.114, 35.184], [129.115, 35.184], [129.111, 35.176], [129.107, 35.178], [129.106, 35.18], [129.104, 35.181], [129.102, 35.18], [129.097, 35.179], [129.097, 35.177], [129.096, 35.173], [129.097, 35.172], [129.095, 35.168], [129.092, 35.165], [129.094, 35.162], [129.093, 35.16], [129.089, 35.161], [129.086, 35.159], [129.083, 35.158], [129.081, 35.16], [129.078, 35.164], [129.079, 35.167], [129.081, 35.168], [129.082, 35.171], [129.079, 35.173], [129.079, 35.175], [129.076, 35.176], [129.075, 35.179], [129.073, 35.179], [129.07, 35.176], [129.067, 35.176]]], &quot;type&quot;: &quot;Polygon&quot;}, &quot;id&quot;: &quot;\\uc5f0\\uc81c\\uad6c&quot;, &quot;properties&quot;: {&quot;base_year&quot;: &quot;2013&quot;, &quot;code&quot;: &quot;21130&quot;, &quot;name&quot;: &quot;\\uc5f0\\uc81c\\uad6c&quot;, &quot;name_eng&quot;: &quot;Yoenje-gu&quot;}, &quot;type&quot;: &quot;Feature&quot;}, {&quot;geometry&quot;: {&quot;coordinates&quot;: [[[129.121, 35.174], [129.121, 35.173], [129.123, 35.172], [129.123, 35.171], [129.124, 35.17], [129.125, 35.168], [129.125, 35.167], [129.127, 35.166], [129.129, 35.164], [129.135, 35.157], [129.134, 35.155], [129.124, 35.153], [129.124, 35.156], [129.12, 35.154], [129.114, 35.147], [129.118, 35.146], [129.118, 35.14], [129.116, 35.139], [129.111, 35.136], [129.106, 35.139], [129.102, 35.143], [129.103, 35.144], [129.102, 35.149], [129.101, 35.152], [129.099, 35.155], [129.095, 35.161], [129.094, 35.162], [129.092, 35.165], [129.095, 35.168], [129.097, 35.172], [129.096, 35.173], [129.097, 35.177], [129.097, 35.179], [129.102, 35.18], [129.104, 35.181], [129.106, 35.18], [129.107, 35.178], [129.111, 35.176], [129.115, 35.184], [129.115, 35.187], [129.118, 35.181], [129.118, 35.18], [129.121, 35.174]]], &quot;type&quot;: &quot;Polygon&quot;}, &quot;id&quot;: &quot;\\uc218\\uc601\\uad6c&quot;, &quot;properties&quot;: {&quot;base_year&quot;: &quot;2013&quot;, &quot;code&quot;: &quot;21140&quot;, &quot;name&quot;: &quot;\\uc218\\uc601\\uad6c&quot;, &quot;name_eng&quot;: &quot;Suyeong-gu&quot;}, &quot;type&quot;: &quot;Feature&quot;}, {&quot;geometry&quot;: {&quot;coordinates&quot;: [[[128.991, 35.194], [128.995, 35.194], [129, 35.192], [129, 35.19], [129.004, 35.19], [129.008, 35.188], [129.011, 35.189], [129.017, 35.189], [129.021, 35.188], [129.021, 35.182], [129.02, 35.181], [129.017, 35.18], [129.014, 35.177], [129.013, 35.176], [129.011, 35.173], [129.011, 35.171], [129.013, 35.169], [129.013, 35.166], [129.011, 35.163], [129.011, 35.159], [129.016, 35.155], [129.016, 35.147], [129.014, 35.146], [129.016, 35.143], [129.012, 35.137], [129.011, 35.139], [129.008, 35.14], [129.004, 35.139], [129.002, 35.141], [128.998, 35.141], [128.996, 35.14], [129.004, 35.136], [129.003, 35.134], [129.003, 35.131], [129.003, 35.125], [129, 35.123], [128.99, 35.125], [128.987, 35.124], [128.982, 35.12], [128.98, 35.117], [128.976, 35.117], [128.972, 35.119], [128.964, 35.122], [128.962, 35.12], [128.958, 35.119], [128.957, 35.124], [128.959, 35.128], [128.961, 35.131], [128.962, 35.135], [128.96, 35.137], [128.96, 35.14], [128.96, 35.146], [128.961, 35.154], [128.963, 35.164], [128.963, 35.184], [128.966, 35.188], [128.97, 35.191], [128.977, 35.193], [128.982, 35.197], [128.988, 35.201], [128.989, 35.2], [128.988, 35.196], [128.991, 35.196], [128.991, 35.194]]], &quot;type&quot;: &quot;Polygon&quot;}, &quot;id&quot;: &quot;\\uc0ac\\uc0c1\\uad6c&quot;, &quot;properties&quot;: {&quot;base_year&quot;: &quot;2013&quot;, &quot;code&quot;: &quot;21150&quot;, &quot;name&quot;: &quot;\\uc0ac\\uc0c1\\uad6c&quot;, &quot;name_eng&quot;: &quot;Sasang-gu&quot;}, &quot;type&quot;: &quot;Feature&quot;}, {&quot;geometry&quot;: {&quot;coordinates&quot;: [[[129.288, 35.321], [129.288, 35.323], [129.285, 35.324], [129.285, 35.326], [129.282, 35.327], [129.278, 35.326], [129.274, 35.323], [129.268, 35.322], [129.264, 35.319], [129.262, 35.315], [129.262, 35.314], [129.261, 35.31], [129.258, 35.306], [129.261, 35.297], [129.261, 35.294], [129.26, 35.291], [129.257, 35.289], [129.259, 35.287], [129.26, 35.283], [129.257, 35.282], [129.256, 35.281], [129.255, 35.275], [129.253, 35.272], [129.247, 35.272], [129.246, 35.272], [129.244, 35.27], [129.244, 35.268], [129.243, 35.266], [129.24, 35.265], [129.236, 35.265], [129.234, 35.263], [129.234, 35.261], [129.235, 35.258], [129.239, 35.257], [129.242, 35.259], [129.245, 35.26], [129.245, 35.258], [129.249, 35.26], [129.252, 35.259], [129.251, 35.256], [129.252, 35.252], [129.252, 35.251], [129.253, 35.247], [129.25, 35.244], [129.248, 35.246], [129.245, 35.244], [129.247, 35.242], [129.248, 35.239], [129.243, 35.237], [129.245, 35.234], [129.244, 35.232], [129.242, 35.229], [129.241, 35.229], [129.24, 35.227], [129.24, 35.225], [129.239, 35.223], [129.236, 35.22], [129.231, 35.22], [129.23, 35.224], [129.227, 35.223], [129.229, 35.218], [129.225, 35.216], [129.225, 35.215], [129.222, 35.213], [129.223, 35.21], [129.226, 35.207], [129.229, 35.204], [129.23, 35.201], [129.23, 35.198], [129.227, 35.196], [129.226, 35.197], [129.225, 35.193], [129.223, 35.19], [129.224, 35.186], [129.219, 35.184], [129.217, 35.187], [129.213, 35.186], [129.212, 35.183], [129.208, 35.183], [129.207, 35.185], [129.206, 35.191], [129.207, 35.195], [129.207, 35.197], [129.199, 35.2], [129.195, 35.199], [129.193, 35.194], [129.191, 35.192], [129.188, 35.189], [129.185, 35.19], [129.183, 35.191], [129.185, 35.195], [129.183, 35.198], [129.179, 35.198], [129.176, 35.201], [129.172, 35.202], [129.17, 35.201], [129.165, 35.203], [129.163, 35.206], [129.16, 35.206], [129.16, 35.21], [129.16, 35.212], [129.165, 35.215], [129.165, 35.22], [129.169, 35.225], [129.169, 35.228], [129.167, 35.23], [129.164, 35.231], [129.161, 35.234], [129.155, 35.236], [129.155, 35.239], [129.157, 35.243], [129.156, 35.244], [129.149, 35.246], [129.147, 35.249], [129.142, 35.251], [129.138, 35.254], [129.14, 35.26], [129.138, 35.261], [129.134, 35.259], [129.133, 35.261], [129.129, 35.26], [129.126, 35.262], [129.123, 35.262], [129.121, 35.264], [129.121, 35.267], [129.122, 35.271], [129.125, 35.274], [129.126, 35.278], [129.124, 35.281], [129.126, 35.283], [129.128, 35.289], [129.132, 35.292], [129.131, 35.293], [129.13, 35.298], [129.123, 35.301], [129.121, 35.302], [129.116, 35.302], [129.114, 35.303], [129.109, 35.305], [129.111, 35.308], [129.112, 35.31], [129.112, 35.315], [129.112, 35.317], [129.114, 35.32], [129.119, 35.323], [129.121, 35.329], [129.125, 35.331], [129.126, 35.333], [129.124, 35.338], [129.126, 35.34], [129.127, 35.342], [129.128, 35.344], [129.127, 35.346], [129.131, 35.349], [129.134, 35.35], [129.135, 35.353], [129.133, 35.356], [129.131, 35.359], [129.129, 35.36], [129.127, 35.362], [129.123, 35.363], [129.122, 35.364], [129.121, 35.367], [129.124, 35.368], [129.128, 35.368], [129.131, 35.366], [129.134, 35.366], [129.139, 35.366], [129.14, 35.365], [129.149, 35.364], [129.159, 35.36], [129.163, 35.357], [129.166, 35.355], [129.169, 35.354], [129.17, 35.354], [129.174, 35.352], [129.178, 35.352], [129.182, 35.355], [129.186, 35.359], [129.19, 35.36], [129.193, 35.361], [129.194, 35.363], [129.199, 35.366], [129.198, 35.371], [129.199, 35.376], [129.197, 35.378], [129.194, 35.382], [129.199, 35.389], [129.204, 35.386], [129.205, 35.384], [129.212, 35.381], [129.215, 35.38], [129.219, 35.379], [129.225, 35.38], [129.23, 35.381], [129.235, 35.38], [129.237, 35.384], [129.24, 35.384], [129.242, 35.383], [129.245, 35.384], [129.247, 35.383], [129.251, 35.385], [129.251, 35.387], [129.253, 35.387], [129.256, 35.385], [129.258, 35.384], [129.263, 35.386], [129.266, 35.387], [129.266, 35.384], [129.268, 35.381], [129.272, 35.377], [129.273, 35.375], [129.277, 35.371], [129.279, 35.366], [129.283, 35.365], [129.282, 35.364], [129.281, 35.356], [129.284, 35.353], [129.285, 35.351], [129.283, 35.349], [129.284, 35.346], [129.28, 35.341], [129.286, 35.339], [129.289, 35.34], [129.291, 35.338], [129.294, 35.338], [129.296, 35.336], [129.304, 35.336], [129.302, 35.334], [129.305, 35.33], [129.306, 35.325], [129.304, 35.322], [129.3, 35.322], [129.299, 35.319], [129.289, 35.319], [129.288, 35.321]]], &quot;type&quot;: &quot;Polygon&quot;}, &quot;id&quot;: &quot;\\uae30\\uc7a5\\uad70&quot;, &quot;properties&quot;: {&quot;base_year&quot;: &quot;2013&quot;, &quot;code&quot;: &quot;21310&quot;, &quot;name&quot;: &quot;\\uae30\\uc7a5\\uad70&quot;, &quot;name_eng&quot;: &quot;Gijang-gun&quot;}, &quot;type&quot;: &quot;Feature&quot;}], &quot;type&quot;: &quot;FeatureCollection&quot;});\n",
              "\n",
              "        \n",
              "    \n",
              "            geo_json_25ab254aff6693ab098cc3d511d157c7.addTo(choropleth_ed340ff0e1d8e7448b5aad0cdd2a9b93);\n",
              "        \n",
              "    \n",
              "            choropleth_ed340ff0e1d8e7448b5aad0cdd2a9b93.addTo(map_438cf334e7ffe22f077fb0bf6c844489);\n",
              "        \n",
              "&lt;/script&gt;\n",
              "&lt;/html&gt;\" style=\"position:absolute;width:100%;height:100%;left:0;top:0;border:none !important;\" allowfullscreen webkitallowfullscreen mozallowfullscreen></iframe></div></div>"
            ]
          },
          "metadata": {},
          "execution_count": 18
        }
      ]
    },
    {
      "cell_type": "code",
      "source": [],
      "metadata": {
        "id": "NUCHlQj1S-6m"
      },
      "execution_count": null,
      "outputs": []
    }
  ]
}